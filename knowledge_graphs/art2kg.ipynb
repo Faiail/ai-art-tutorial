{
 "cells": [
  {
   "cell_type": "markdown",
   "metadata": {
    "collapsed": false,
    "jupyter": {
     "outputs_hidden": false
    }
   },
   "source": [
    "## ART2KG: HOW TO ANALYZE ART USING GRAPH DATA SCIENCE"
   ]
  },
  {
   "cell_type": "markdown",
   "metadata": {
    "collapsed": false,
    "jupyter": {
     "outputs_hidden": false
    }
   },
   "source": [
    "<p align=\"center\">\n",
    "  <img src=\"imgs/neo4j_logo.png\" />\n",
    "</p>"
   ]
  },
  {
   "cell_type": "markdown",
   "metadata": {
    "collapsed": false,
    "jupyter": {
     "outputs_hidden": false
    }
   },
   "source": [
    "In this tutorial we will see how to analyze the beauty of Art through Graph Data Science. Specifically, we will take a look to $A$rt$G$raph, a labeled property graph, designed specifically to embrace the knowledge in the domain of Artistic Heritage, by exploiting Neo4j, which is a graph database."
   ]
  },
  {
   "cell_type": "markdown",
   "metadata": {
    "collapsed": false,
    "jupyter": {
     "outputs_hidden": false
    }
   },
   "source": [
    "## NEO4J INSTALLATION"
   ]
  },
  {
   "cell_type": "markdown",
   "metadata": {
    "collapsed": false,
    "jupyter": {
     "outputs_hidden": false
    }
   },
   "source": [
    "### 1. STEP: INSTALL NEO4J\n",
    "Install the desktop version following the instructions on the [website](https://neo4j.com/download/)"
   ]
  },
  {
   "cell_type": "markdown",
   "metadata": {
    "collapsed": false,
    "jupyter": {
     "outputs_hidden": false
    }
   },
   "source": [
    "### 2. STEP: CREATE A NEW PROJECT\n",
    "Once you have installed Neo4j on your computer, open it and create a new blank project\n",
    "<p align=\"center\">\n",
    "  <img width=\"1200\"  src=\"imgs/create_project.png\" >\n",
    "</p>\n",
    "# TODO: change the image with a pretty one"
   ]
  },
  {
   "cell_type": "markdown",
   "metadata": {
    "collapsed": false,
    "jupyter": {
     "outputs_hidden": false
    }
   },
   "source": [
    "### 3. STEP: DOWNLOAD THE DUMP FILE\n",
    "Download the $A$rt$G$raph dump from [Zenodo](https://zenodo.org/record/8172374) (**Be sure to download the second version of the dataset**) and place it in the folder of your DB.\n",
    "\n",
    "To access your project folder, select the options in the Neo4j dashboard.\n",
    "<p align=\"center\">\n",
    "  <img width=\"1200\" src=\"imgs/rev_folder.png\">\n",
    "</p>\n",
    "\n",
    "Now salve the dump file in the target directory.\n",
    "<p align=\"center\">\n",
    "  <img src=\"imgs/proj_folder.png\" >\n",
    "</p>"
   ]
  },
  {
   "cell_type": "markdown",
   "metadata": {
    "collapsed": false,
    "jupyter": {
     "outputs_hidden": false
    }
   },
   "source": [
    "### 4. STEP: CREATE A NEW DATABASE\n",
    "Create a new DBMS from an existing dump.\n",
    "\n",
    "To be sure that the dump file will be correctly processed, you need to select version **4.4.4** of the DBMS\n",
    "<p align=\"center\">\n",
    "  <img width=\"1200\"  src=\"imgs/dbms_settings.png\" >\n",
    "</p>"
   ]
  },
  {
   "cell_type": "markdown",
   "metadata": {
    "collapsed": false,
    "jupyter": {
     "outputs_hidden": false
    }
   },
   "source": [
    "### 5. STEP: LET THE DB BE VISIBLE TO NEO4J PYTHON MODULE FOR CONNECTION\n",
    "To let <code>neo4j</code> python module connect to your new database , you may need to change a setting.\n",
    "To do so, open the settings and place the auth_enabled variable to False:\n",
    "<code>dbms.security.auth_enabled=False</code>\n",
    "\n",
    "<p align=\"center\">\n",
    "  <img width=\"1200\"  src=\"imgs/security_settings.png\" >\n",
    "</p>"
   ]
  },
  {
   "cell_type": "markdown",
   "metadata": {
    "collapsed": false,
    "jupyter": {
     "outputs_hidden": false
    }
   },
   "source": [
    "### 6. STEP: START THE DB\n",
    "Press the button **Start** to start the DB and make it visible in your local connection.\n",
    "\n",
    "<p align=\"center\">\n",
    "  <img width=\"1200\"  src=\"imgs/start.png\" >\n",
    "</p>"
   ]
  },
  {
   "cell_type": "code",
   "execution_count": 1,
   "metadata": {},
   "outputs": [
    {
     "name": "stdout",
     "output_type": "stream",
     "text": [
      "Requirement already satisfied: anyio==3.7.1 in d:\\repository_git\\tutorial_neo4j\\env\\lib\\site-packages (from -r requirements.txt (line 1)) (3.7.1)\n",
      "Requirement already satisfied: argon2-cffi==21.3.0 in d:\\repository_git\\tutorial_neo4j\\env\\lib\\site-packages (from -r requirements.txt (line 2)) (21.3.0)\n",
      "Requirement already satisfied: argon2-cffi-bindings==21.2.0 in d:\\repository_git\\tutorial_neo4j\\env\\lib\\site-packages (from -r requirements.txt (line 3)) (21.2.0)\n",
      "Requirement already satisfied: arrow==1.2.3 in d:\\repository_git\\tutorial_neo4j\\env\\lib\\site-packages (from -r requirements.txt (line 4)) (1.2.3)\n",
      "Requirement already satisfied: asttokens==2.2.1 in d:\\repository_git\\tutorial_neo4j\\env\\lib\\site-packages (from -r requirements.txt (line 5)) (2.2.1)\n",
      "Requirement already satisfied: async-lru==2.0.3 in d:\\repository_git\\tutorial_neo4j\\env\\lib\\site-packages (from -r requirements.txt (line 6)) (2.0.3)\n",
      "Requirement already satisfied: attrs==23.1.0 in d:\\repository_git\\tutorial_neo4j\\env\\lib\\site-packages (from -r requirements.txt (line 7)) (23.1.0)\n",
      "Requirement already satisfied: Babel==2.12.1 in d:\\repository_git\\tutorial_neo4j\\env\\lib\\site-packages (from -r requirements.txt (line 8)) (2.12.1)\n",
      "Requirement already satisfied: backcall==0.2.0 in d:\\repository_git\\tutorial_neo4j\\env\\lib\\site-packages (from -r requirements.txt (line 9)) (0.2.0)\n",
      "Requirement already satisfied: beautifulsoup4==4.12.2 in d:\\repository_git\\tutorial_neo4j\\env\\lib\\site-packages (from -r requirements.txt (line 10)) (4.12.2)\n",
      "Requirement already satisfied: bleach==6.0.0 in d:\\repository_git\\tutorial_neo4j\\env\\lib\\site-packages (from -r requirements.txt (line 11)) (6.0.0)\n",
      "Requirement already satisfied: certifi==2023.7.22 in d:\\repository_git\\tutorial_neo4j\\env\\lib\\site-packages (from -r requirements.txt (line 12)) (2023.7.22)\n",
      "Requirement already satisfied: cffi==1.15.1 in d:\\repository_git\\tutorial_neo4j\\env\\lib\\site-packages (from -r requirements.txt (line 13)) (1.15.1)\n",
      "Requirement already satisfied: charset-normalizer==3.2.0 in d:\\repository_git\\tutorial_neo4j\\env\\lib\\site-packages (from -r requirements.txt (line 14)) (3.2.0)\n",
      "Requirement already satisfied: colorama==0.4.6 in d:\\repository_git\\tutorial_neo4j\\env\\lib\\site-packages (from -r requirements.txt (line 15)) (0.4.6)\n",
      "Requirement already satisfied: comm==0.1.3 in d:\\repository_git\\tutorial_neo4j\\env\\lib\\site-packages (from -r requirements.txt (line 16)) (0.1.3)\n",
      "Requirement already satisfied: debugpy==1.6.7 in d:\\repository_git\\tutorial_neo4j\\env\\lib\\site-packages (from -r requirements.txt (line 17)) (1.6.7)\n",
      "Requirement already satisfied: decorator==5.1.1 in d:\\repository_git\\tutorial_neo4j\\env\\lib\\site-packages (from -r requirements.txt (line 18)) (5.1.1)\n",
      "Requirement already satisfied: defusedxml==0.7.1 in d:\\repository_git\\tutorial_neo4j\\env\\lib\\site-packages (from -r requirements.txt (line 19)) (0.7.1)\n",
      "Requirement already satisfied: exceptiongroup==1.1.2 in d:\\repository_git\\tutorial_neo4j\\env\\lib\\site-packages (from -r requirements.txt (line 20)) (1.1.2)\n",
      "Requirement already satisfied: executing==1.2.0 in d:\\repository_git\\tutorial_neo4j\\env\\lib\\site-packages (from -r requirements.txt (line 21)) (1.2.0)\n",
      "Requirement already satisfied: fastjsonschema==2.18.0 in d:\\repository_git\\tutorial_neo4j\\env\\lib\\site-packages (from -r requirements.txt (line 22)) (2.18.0)\n",
      "Requirement already satisfied: fqdn==1.5.1 in d:\\repository_git\\tutorial_neo4j\\env\\lib\\site-packages (from -r requirements.txt (line 23)) (1.5.1)\n",
      "Requirement already satisfied: graphdatascience==1.7 in d:\\repository_git\\tutorial_neo4j\\env\\lib\\site-packages (from -r requirements.txt (line 24)) (1.7)\n",
      "Requirement already satisfied: idna==3.4 in d:\\repository_git\\tutorial_neo4j\\env\\lib\\site-packages (from -r requirements.txt (line 25)) (3.4)\n",
      "Requirement already satisfied: importlib-metadata==6.8.0 in d:\\repository_git\\tutorial_neo4j\\env\\lib\\site-packages (from -r requirements.txt (line 26)) (6.8.0)\n",
      "Requirement already satisfied: ipykernel==6.25.0 in d:\\repository_git\\tutorial_neo4j\\env\\lib\\site-packages (from -r requirements.txt (line 27)) (6.25.0)\n",
      "Requirement already satisfied: ipython==8.14.0 in d:\\repository_git\\tutorial_neo4j\\env\\lib\\site-packages (from -r requirements.txt (line 28)) (8.14.0)\n",
      "Requirement already satisfied: ipython-genutils==0.2.0 in d:\\repository_git\\tutorial_neo4j\\env\\lib\\site-packages (from -r requirements.txt (line 29)) (0.2.0)\n",
      "Requirement already satisfied: ipywidgets==8.0.7 in d:\\repository_git\\tutorial_neo4j\\env\\lib\\site-packages (from -r requirements.txt (line 30)) (8.0.7)\n",
      "Requirement already satisfied: isoduration==20.11.0 in d:\\repository_git\\tutorial_neo4j\\env\\lib\\site-packages (from -r requirements.txt (line 31)) (20.11.0)\n",
      "Requirement already satisfied: jedi==0.18.2 in d:\\repository_git\\tutorial_neo4j\\env\\lib\\site-packages (from -r requirements.txt (line 32)) (0.18.2)\n",
      "Requirement already satisfied: Jinja2==3.1.2 in d:\\repository_git\\tutorial_neo4j\\env\\lib\\site-packages (from -r requirements.txt (line 33)) (3.1.2)\n",
      "Requirement already satisfied: json5==0.9.14 in d:\\repository_git\\tutorial_neo4j\\env\\lib\\site-packages (from -r requirements.txt (line 34)) (0.9.14)\n",
      "Requirement already satisfied: jsonpointer==2.4 in d:\\repository_git\\tutorial_neo4j\\env\\lib\\site-packages (from -r requirements.txt (line 35)) (2.4)\n",
      "Requirement already satisfied: jsonschema==4.18.4 in d:\\repository_git\\tutorial_neo4j\\env\\lib\\site-packages (from -r requirements.txt (line 36)) (4.18.4)\n",
      "Requirement already satisfied: jsonschema-specifications==2023.7.1 in d:\\repository_git\\tutorial_neo4j\\env\\lib\\site-packages (from -r requirements.txt (line 37)) (2023.7.1)\n",
      "Requirement already satisfied: jupyter==1.0.0 in d:\\repository_git\\tutorial_neo4j\\env\\lib\\site-packages (from -r requirements.txt (line 38)) (1.0.0)\n",
      "Requirement already satisfied: jupyter-console==6.6.3 in d:\\repository_git\\tutorial_neo4j\\env\\lib\\site-packages (from -r requirements.txt (line 39)) (6.6.3)\n",
      "Requirement already satisfied: jupyter-events==0.6.3 in d:\\repository_git\\tutorial_neo4j\\env\\lib\\site-packages (from -r requirements.txt (line 40)) (0.6.3)\n",
      "Requirement already satisfied: jupyter-lsp==2.2.0 in d:\\repository_git\\tutorial_neo4j\\env\\lib\\site-packages (from -r requirements.txt (line 41)) (2.2.0)\n",
      "Requirement already satisfied: jupyter_client==8.3.0 in d:\\repository_git\\tutorial_neo4j\\env\\lib\\site-packages (from -r requirements.txt (line 42)) (8.3.0)\n",
      "Requirement already satisfied: jupyter_core==5.3.1 in d:\\repository_git\\tutorial_neo4j\\env\\lib\\site-packages (from -r requirements.txt (line 43)) (5.3.1)\n",
      "Requirement already satisfied: jupyter_server==2.7.0 in d:\\repository_git\\tutorial_neo4j\\env\\lib\\site-packages (from -r requirements.txt (line 44)) (2.7.0)\n",
      "Requirement already satisfied: jupyter_server_terminals==0.4.4 in d:\\repository_git\\tutorial_neo4j\\env\\lib\\site-packages (from -r requirements.txt (line 45)) (0.4.4)\n",
      "Requirement already satisfied: jupyterlab==4.0.3 in d:\\repository_git\\tutorial_neo4j\\env\\lib\\site-packages (from -r requirements.txt (line 46)) (4.0.3)\n",
      "Requirement already satisfied: jupyterlab-pygments==0.2.2 in d:\\repository_git\\tutorial_neo4j\\env\\lib\\site-packages (from -r requirements.txt (line 47)) (0.2.2)\n",
      "Requirement already satisfied: jupyterlab-widgets==3.0.8 in d:\\repository_git\\tutorial_neo4j\\env\\lib\\site-packages (from -r requirements.txt (line 48)) (3.0.8)\n",
      "Requirement already satisfied: jupyterlab_server==2.24.0 in d:\\repository_git\\tutorial_neo4j\\env\\lib\\site-packages (from -r requirements.txt (line 49)) (2.24.0)\n",
      "Requirement already satisfied: MarkupSafe==2.1.3 in d:\\repository_git\\tutorial_neo4j\\env\\lib\\site-packages (from -r requirements.txt (line 50)) (2.1.3)\n",
      "Requirement already satisfied: matplotlib-inline==0.1.6 in d:\\repository_git\\tutorial_neo4j\\env\\lib\\site-packages (from -r requirements.txt (line 51)) (0.1.6)\n",
      "Requirement already satisfied: mistune==3.0.1 in d:\\repository_git\\tutorial_neo4j\\env\\lib\\site-packages (from -r requirements.txt (line 52)) (3.0.1)\n",
      "Requirement already satisfied: multimethod==1.9.1 in d:\\repository_git\\tutorial_neo4j\\env\\lib\\site-packages (from -r requirements.txt (line 53)) (1.9.1)\n",
      "Requirement already satisfied: nbclient==0.8.0 in d:\\repository_git\\tutorial_neo4j\\env\\lib\\site-packages (from -r requirements.txt (line 54)) (0.8.0)\n",
      "Requirement already satisfied: nbconvert==7.7.3 in d:\\repository_git\\tutorial_neo4j\\env\\lib\\site-packages (from -r requirements.txt (line 55)) (7.7.3)\n",
      "Requirement already satisfied: nbformat==5.9.1 in d:\\repository_git\\tutorial_neo4j\\env\\lib\\site-packages (from -r requirements.txt (line 56)) (5.9.1)\n",
      "Requirement already satisfied: neo4j==5.10.0 in d:\\repository_git\\tutorial_neo4j\\env\\lib\\site-packages (from -r requirements.txt (line 57)) (5.10.0)\n",
      "Requirement already satisfied: nest-asyncio==1.5.6 in d:\\repository_git\\tutorial_neo4j\\env\\lib\\site-packages (from -r requirements.txt (line 58)) (1.5.6)\n",
      "Requirement already satisfied: notebook==7.0.0 in d:\\repository_git\\tutorial_neo4j\\env\\lib\\site-packages (from -r requirements.txt (line 59)) (7.0.0)\n",
      "Requirement already satisfied: notebook_shim==0.2.3 in d:\\repository_git\\tutorial_neo4j\\env\\lib\\site-packages (from -r requirements.txt (line 60)) (0.2.3)\n",
      "Requirement already satisfied: numpy==1.25.1 in d:\\repository_git\\tutorial_neo4j\\env\\lib\\site-packages (from -r requirements.txt (line 61)) (1.25.1)\n",
      "Requirement already satisfied: overrides==7.3.1 in d:\\repository_git\\tutorial_neo4j\\env\\lib\\site-packages (from -r requirements.txt (line 62)) (7.3.1)\n",
      "Requirement already satisfied: packaging==23.1 in d:\\repository_git\\tutorial_neo4j\\env\\lib\\site-packages (from -r requirements.txt (line 63)) (23.1)\n",
      "Requirement already satisfied: pandas==2.0.3 in d:\\repository_git\\tutorial_neo4j\\env\\lib\\site-packages (from -r requirements.txt (line 64)) (2.0.3)\n",
      "Requirement already satisfied: pandocfilters==1.5.0 in d:\\repository_git\\tutorial_neo4j\\env\\lib\\site-packages (from -r requirements.txt (line 65)) (1.5.0)\n",
      "Requirement already satisfied: parso==0.8.3 in d:\\repository_git\\tutorial_neo4j\\env\\lib\\site-packages (from -r requirements.txt (line 66)) (0.8.3)\n",
      "Requirement already satisfied: pickleshare==0.7.5 in d:\\repository_git\\tutorial_neo4j\\env\\lib\\site-packages (from -r requirements.txt (line 67)) (0.7.5)\n",
      "Requirement already satisfied: platformdirs==3.9.1 in d:\\repository_git\\tutorial_neo4j\\env\\lib\\site-packages (from -r requirements.txt (line 68)) (3.9.1)\n",
      "Requirement already satisfied: prometheus-client==0.17.1 in d:\\repository_git\\tutorial_neo4j\\env\\lib\\site-packages (from -r requirements.txt (line 69)) (0.17.1)\n",
      "Requirement already satisfied: prompt-toolkit==3.0.39 in d:\\repository_git\\tutorial_neo4j\\env\\lib\\site-packages (from -r requirements.txt (line 70)) (3.0.39)\n",
      "Requirement already satisfied: psutil==5.9.5 in d:\\repository_git\\tutorial_neo4j\\env\\lib\\site-packages (from -r requirements.txt (line 71)) (5.9.5)\n",
      "Requirement already satisfied: pure-eval==0.2.2 in d:\\repository_git\\tutorial_neo4j\\env\\lib\\site-packages (from -r requirements.txt (line 72)) (0.2.2)\n",
      "Requirement already satisfied: pyarrow==12.0.1 in d:\\repository_git\\tutorial_neo4j\\env\\lib\\site-packages (from -r requirements.txt (line 73)) (12.0.1)\n",
      "Requirement already satisfied: pycparser==2.21 in d:\\repository_git\\tutorial_neo4j\\env\\lib\\site-packages (from -r requirements.txt (line 74)) (2.21)\n",
      "Requirement already satisfied: Pygments==2.15.1 in d:\\repository_git\\tutorial_neo4j\\env\\lib\\site-packages (from -r requirements.txt (line 75)) (2.15.1)\n",
      "Requirement already satisfied: python-dateutil==2.8.2 in d:\\repository_git\\tutorial_neo4j\\env\\lib\\site-packages (from -r requirements.txt (line 76)) (2.8.2)\n",
      "Requirement already satisfied: python-json-logger==2.0.7 in d:\\repository_git\\tutorial_neo4j\\env\\lib\\site-packages (from -r requirements.txt (line 77)) (2.0.7)\n",
      "Requirement already satisfied: pytz==2023.3 in d:\\repository_git\\tutorial_neo4j\\env\\lib\\site-packages (from -r requirements.txt (line 78)) (2023.3)\n",
      "Requirement already satisfied: pywin32==306 in d:\\repository_git\\tutorial_neo4j\\env\\lib\\site-packages (from -r requirements.txt (line 79)) (306)\n",
      "Requirement already satisfied: pywinpty==2.0.11 in d:\\repository_git\\tutorial_neo4j\\env\\lib\\site-packages (from -r requirements.txt (line 80)) (2.0.11)\n",
      "Requirement already satisfied: PyYAML==6.0.1 in d:\\repository_git\\tutorial_neo4j\\env\\lib\\site-packages (from -r requirements.txt (line 81)) (6.0.1)\n",
      "Requirement already satisfied: pyzmq==25.1.0 in d:\\repository_git\\tutorial_neo4j\\env\\lib\\site-packages (from -r requirements.txt (line 82)) (25.1.0)\n",
      "Requirement already satisfied: qtconsole==5.4.3 in d:\\repository_git\\tutorial_neo4j\\env\\lib\\site-packages (from -r requirements.txt (line 83)) (5.4.3)\n",
      "Requirement already satisfied: QtPy==2.3.1 in d:\\repository_git\\tutorial_neo4j\\env\\lib\\site-packages (from -r requirements.txt (line 84)) (2.3.1)\n",
      "Requirement already satisfied: referencing==0.30.0 in d:\\repository_git\\tutorial_neo4j\\env\\lib\\site-packages (from -r requirements.txt (line 85)) (0.30.0)\n",
      "Requirement already satisfied: requests==2.31.0 in d:\\repository_git\\tutorial_neo4j\\env\\lib\\site-packages (from -r requirements.txt (line 86)) (2.31.0)\n",
      "Requirement already satisfied: rfc3339-validator==0.1.4 in d:\\repository_git\\tutorial_neo4j\\env\\lib\\site-packages (from -r requirements.txt (line 87)) (0.1.4)\n",
      "Requirement already satisfied: rfc3986-validator==0.1.1 in d:\\repository_git\\tutorial_neo4j\\env\\lib\\site-packages (from -r requirements.txt (line 88)) (0.1.1)\n",
      "Requirement already satisfied: rpds-py==0.9.2 in d:\\repository_git\\tutorial_neo4j\\env\\lib\\site-packages (from -r requirements.txt (line 89)) (0.9.2)\n",
      "Requirement already satisfied: Send2Trash==1.8.2 in d:\\repository_git\\tutorial_neo4j\\env\\lib\\site-packages (from -r requirements.txt (line 90)) (1.8.2)\n",
      "Requirement already satisfied: six==1.16.0 in d:\\repository_git\\tutorial_neo4j\\env\\lib\\site-packages (from -r requirements.txt (line 91)) (1.16.0)\n",
      "Requirement already satisfied: sniffio==1.3.0 in d:\\repository_git\\tutorial_neo4j\\env\\lib\\site-packages (from -r requirements.txt (line 92)) (1.3.0)\n",
      "Requirement already satisfied: soupsieve==2.4.1 in d:\\repository_git\\tutorial_neo4j\\env\\lib\\site-packages (from -r requirements.txt (line 93)) (2.4.1)\n",
      "Requirement already satisfied: stack-data==0.6.2 in d:\\repository_git\\tutorial_neo4j\\env\\lib\\site-packages (from -r requirements.txt (line 94)) (0.6.2)\n",
      "Requirement already satisfied: terminado==0.17.1 in d:\\repository_git\\tutorial_neo4j\\env\\lib\\site-packages (from -r requirements.txt (line 95)) (0.17.1)\n",
      "Requirement already satisfied: textdistance==4.5.0 in d:\\repository_git\\tutorial_neo4j\\env\\lib\\site-packages (from -r requirements.txt (line 96)) (4.5.0)\n",
      "Requirement already satisfied: tinycss2==1.2.1 in d:\\repository_git\\tutorial_neo4j\\env\\lib\\site-packages (from -r requirements.txt (line 97)) (1.2.1)\n",
      "Requirement already satisfied: tomli==2.0.1 in d:\\repository_git\\tutorial_neo4j\\env\\lib\\site-packages (from -r requirements.txt (line 98)) (2.0.1)\n",
      "Requirement already satisfied: tornado==6.3.2 in d:\\repository_git\\tutorial_neo4j\\env\\lib\\site-packages (from -r requirements.txt (line 99)) (6.3.2)\n",
      "Requirement already satisfied: tqdm==4.65.0 in d:\\repository_git\\tutorial_neo4j\\env\\lib\\site-packages (from -r requirements.txt (line 100)) (4.65.0)\n",
      "Requirement already satisfied: traitlets==5.9.0 in d:\\repository_git\\tutorial_neo4j\\env\\lib\\site-packages (from -r requirements.txt (line 101)) (5.9.0)\n",
      "Requirement already satisfied: typing_extensions==4.7.1 in d:\\repository_git\\tutorial_neo4j\\env\\lib\\site-packages (from -r requirements.txt (line 102)) (4.7.1)\n",
      "Requirement already satisfied: tzdata==2023.3 in d:\\repository_git\\tutorial_neo4j\\env\\lib\\site-packages (from -r requirements.txt (line 103)) (2023.3)\n",
      "Requirement already satisfied: uri-template==1.3.0 in d:\\repository_git\\tutorial_neo4j\\env\\lib\\site-packages (from -r requirements.txt (line 104)) (1.3.0)\n",
      "Requirement already satisfied: urllib3==2.0.4 in d:\\repository_git\\tutorial_neo4j\\env\\lib\\site-packages (from -r requirements.txt (line 105)) (2.0.4)\n",
      "Requirement already satisfied: wcwidth==0.2.6 in d:\\repository_git\\tutorial_neo4j\\env\\lib\\site-packages (from -r requirements.txt (line 106)) (0.2.6)\n",
      "Requirement already satisfied: webcolors==1.13 in d:\\repository_git\\tutorial_neo4j\\env\\lib\\site-packages (from -r requirements.txt (line 107)) (1.13)\n",
      "Requirement already satisfied: webencodings==0.5.1 in d:\\repository_git\\tutorial_neo4j\\env\\lib\\site-packages (from -r requirements.txt (line 108)) (0.5.1)\n",
      "Requirement already satisfied: websocket-client==1.6.1 in d:\\repository_git\\tutorial_neo4j\\env\\lib\\site-packages (from -r requirements.txt (line 109)) (1.6.1)\n",
      "Requirement already satisfied: widgetsnbextension==4.0.8 in d:\\repository_git\\tutorial_neo4j\\env\\lib\\site-packages (from -r requirements.txt (line 110)) (4.0.8)\n",
      "Requirement already satisfied: yfiles-jupyter-graphs==1.4.7 in d:\\repository_git\\tutorial_neo4j\\env\\lib\\site-packages (from -r requirements.txt (line 111)) (1.4.7)\n",
      "Requirement already satisfied: zipp==3.16.2 in d:\\repository_git\\tutorial_neo4j\\env\\lib\\site-packages (from -r requirements.txt (line 112)) (3.16.2)\n"
     ]
    },
    {
     "name": "stderr",
     "output_type": "stream",
     "text": [
      "\n",
      "[notice] A new release of pip available: 22.3.1 -> 23.2.1\n",
      "[notice] To update, run: python.exe -m pip install --upgrade pip\n"
     ]
    }
   ],
   "source": [
    "!pip install -r requirements.txt"
   ]
  },
  {
   "cell_type": "code",
   "execution_count": 2,
   "metadata": {
    "collapsed": false,
    "jupyter": {
     "outputs_hidden": false
    }
   },
   "outputs": [],
   "source": [
    "from neo4j import GraphDatabase\n",
    "from yfiles_jupyter_graphs import GraphWidget"
   ]
  },
  {
   "cell_type": "markdown",
   "metadata": {
    "collapsed": false,
    "jupyter": {
     "outputs_hidden": false
    }
   },
   "source": [
    "Replace with your credentials"
   ]
  },
  {
   "cell_type": "code",
   "execution_count": 3,
   "metadata": {
    "collapsed": false,
    "jupyter": {
     "outputs_hidden": false
    }
   },
   "outputs": [],
   "source": [
    "CREDENTIALS = {'uri': \"bolt://localhost:7687\",\n",
    "             'auth': ('neo4j', 'admin')}"
   ]
  },
  {
   "cell_type": "code",
   "execution_count": 4,
   "metadata": {
    "collapsed": false,
    "jupyter": {
     "outputs_hidden": false
    }
   },
   "outputs": [],
   "source": [
    "driver = GraphDatabase.driver(**CREDENTIALS)"
   ]
  },
  {
   "cell_type": "markdown",
   "metadata": {},
   "source": [
    "Let's define a simple style for a better visualization"
   ]
  },
  {
   "cell_type": "code",
   "execution_count": 5,
   "metadata": {},
   "outputs": [],
   "source": [
    "node_styles = {\n",
    "    'Artwork': {'color': '#F60F04', 'label': 'title'},\n",
    "    'Artist': {'color': '#7F12ED', 'label': 'printed_name'},\n",
    "    'Style': {'color': '#48831C', 'label': 'name'},\n",
    "    'Genre': {'color': '#FF99E3', 'label': 'name'},\n",
    "    'Emotion': {'color': '#03FB21', 'label': 'name'},\n",
    "    'Media': {'color': '#FF59D9', 'label': 'name'},\n",
    "    'Tag': {'color': '#59E3FF', 'label': 'name'},\n",
    "    'Country': {'color': '#255EC6', 'label': 'name'},\n",
    "    'Period': {'color': '#B6D0FF', 'label': 'name'},\n",
    "    'City': {'color': '#F9FF3C', 'label': 'name'},\n",
    "    'Gallery': {'color': '#EF78FF', 'label': 'name'},\n",
    "    'Serie': {'color': '#E3CB1D', 'label': 'name'},\n",
    "    'Field': {'color': '#E36B1D', 'label': 'name'},\n",
    "    'Training': {'color': '#1DE383', 'label': 'name'},\n",
    "    'Subject': {'color': '#E31D50', 'label': 'name'},\n",
    "    'Movement': {'color': '#9FFFEC', 'label': 'name'},\n",
    "    'People': {'color': '#077D26', 'label': 'name'},\n",
    "}\n"
   ]
  },
  {
   "cell_type": "code",
   "execution_count": 6,
   "metadata": {},
   "outputs": [],
   "source": [
    "def get_label(node, style_map):\n",
    "    lab = style_map.get(node['properties']['label'])['label'] # e.g. name, title, printed_name, ...\n",
    "    return node['properties'][lab] if lab in node['properties'].keys() else node['properties']['name']"
   ]
  },
  {
   "cell_type": "code",
   "execution_count": 7,
   "metadata": {},
   "outputs": [],
   "source": [
    "def plotGraph(graph):\n",
    "    w = GraphWidget(graph=graph) # create a new widget\n",
    "    # set basic settings\n",
    "    w.set_graph_layout(\"radial\")\n",
    "    w.set_sidebar(enabled=False, start_with='Data')\n",
    "    w.set:overview(False)\n",
    "    \n",
    "    w.set_node_styles_mapping(lambda index, node: node_styles.get(node['properties']['label'], {}))\n",
    "    #w.set_node_label_mapping(lambda index, node: node['properties'].get(node_styles.get(node['properties']['label'])['label']))\n",
    "    w.set_node_label_mapping(lambda index, node: get_label(node, node_styles))\n",
    "    return w.show()\n",
    "    "
   ]
  },
  {
   "cell_type": "markdown",
   "metadata": {},
   "source": [
    "### QUERY 1. GRAPH SCHEMA\n",
    "The goal of this query is to visualize the logic schema of $A$rt$G$raph"
   ]
  },
  {
   "cell_type": "code",
   "execution_count": 8,
   "metadata": {
    "collapsed": false,
    "jupyter": {
     "outputs_hidden": false
    }
   },
   "outputs": [
    {
     "data": {
      "application/vnd.jupyter.widget-view+json": {
       "model_id": "7a2e82be17274465bb193fd170ca2c74",
       "version_major": 2,
       "version_minor": 0
      },
      "text/plain": [
       "GraphWidget(layout=Layout(height='500px', width='100%'))"
      ]
     },
     "metadata": {},
     "output_type": "display_data"
    }
   ],
   "source": [
    "with driver.session(database='neo4j') as session:\n",
    "    graph = session.run('call db.schema.visualization()').graph()\n",
    "plotGraph(graph)"
   ]
  },
  {
   "cell_type": "markdown",
   "metadata": {},
   "source": [
    "### QUERY 2. ARTGRAPH SAMPLE\n",
    "In this query we are going to take a look to a \"small\" portion of $A$rt$G$raph, concentrating to *Artwork* nodes"
   ]
  },
  {
   "cell_type": "code",
   "execution_count": 9,
   "metadata": {},
   "outputs": [
    {
     "data": {
      "application/vnd.jupyter.widget-view+json": {
       "model_id": "4f91034433b5418a9c112d1cfe064d59",
       "version_major": 2,
       "version_minor": 0
      },
      "text/plain": [
       "GraphWidget(layout=Layout(height='500px', width='100%'))"
      ]
     },
     "metadata": {},
     "output_type": "display_data"
    }
   ],
   "source": [
    "with driver.session(database='neo4j') as session:\n",
    "    graph = session.run('match p=(:Artwork)-[*3]-() return p limit 200').graph()\n",
    "plotGraph(graph)"
   ]
  },
  {
   "cell_type": "markdown",
   "metadata": {},
   "source": [
    "And now with respect to *Artist* nodes"
   ]
  },
  {
   "cell_type": "code",
   "execution_count": 10,
   "metadata": {},
   "outputs": [
    {
     "data": {
      "application/vnd.jupyter.widget-view+json": {
       "model_id": "9ad8317a39934df091e52ef42b790f47",
       "version_major": 2,
       "version_minor": 0
      },
      "text/plain": [
       "GraphWidget(layout=Layout(height='500px', width='100%'))"
      ]
     },
     "metadata": {},
     "output_type": "display_data"
    }
   ],
   "source": [
    "with driver.session(database='neo4j') as session:\n",
    "    graph = session.run('match p=(:Artist)<-[*2]->(:Artist) return p LIMIT 500').graph()\n",
    "plotGraph(graph)"
   ]
  },
  {
   "cell_type": "code",
   "execution_count": 12,
   "metadata": {},
   "outputs": [
    {
     "data": {
      "application/vnd.jupyter.widget-view+json": {
       "model_id": "253f6a9dbec444dd845a1ec3a356a4db",
       "version_major": 2,
       "version_minor": 0
      },
      "text/plain": [
       "GraphWidget(layout=Layout(height='500px', width='100%'))"
      ]
     },
     "metadata": {},
     "output_type": "display_data"
    }
   ],
   "source": [
    "query = 'MATCH p=(:Artist)--(:Artist)--()--(:Artist)--(:Artist) return p limit 500'\n",
    "with driver.session(database='neo4j') as session:\n",
    "    graph = session.run(query).graph()\n",
    "plotGraph(graph)"
   ]
  },
  {
   "cell_type": "code",
   "execution_count": null,
   "metadata": {},
   "outputs": [],
   "source": []
  }
 ],
 "metadata": {
  "kernelspec": {
   "display_name": "Python 3 (ipykernel)",
   "language": "python",
   "name": "python3"
  },
  "language_info": {
   "codemirror_mode": {
    "name": "ipython",
    "version": 3
   },
   "file_extension": ".py",
   "mimetype": "text/x-python",
   "name": "python",
   "nbconvert_exporter": "python",
   "pygments_lexer": "ipython3",
   "version": "3.9.13"
  }
 },
 "nbformat": 4,
 "nbformat_minor": 4
}
