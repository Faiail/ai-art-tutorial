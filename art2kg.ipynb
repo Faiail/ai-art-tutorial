{
 "cells": [
  {
   "cell_type": "markdown",
   "metadata": {
    "collapsed": false,
    "jupyter": {
     "outputs_hidden": false
    }
   },
   "source": [
    "## ART2KG: HOW TO ANALYZE ART USING GRAPH DATA SCIENCE"
   ]
  },
  {
   "cell_type": "markdown",
   "metadata": {
    "collapsed": false,
    "jupyter": {
     "outputs_hidden": false
    }
   },
   "source": [
    "<p align=\"center\">\n",
    "  <img src=\"imgs/neo4j_logo.png\" />\n",
    "</p>"
   ]
  },
  {
   "cell_type": "markdown",
   "metadata": {
    "collapsed": false,
    "jupyter": {
     "outputs_hidden": false
    }
   },
   "source": [
    "In this tutorial we will see how to analyze the beauty of Art through Graph Data Science. Specifically, we will take a look to $A$rt$G$raph, a labeled property graph, designed specifically to embrace the knowledge in the domain of Artistic Heritage, by exploiting Neo4j, which is a graph database."
   ]
  },
  {
   "cell_type": "markdown",
   "metadata": {
    "collapsed": false,
    "jupyter": {
     "outputs_hidden": false
    }
   },
   "source": [
    "## NEO4J INSTALLATION"
   ]
  },
  {
   "cell_type": "markdown",
   "metadata": {
    "collapsed": false,
    "jupyter": {
     "outputs_hidden": false
    }
   },
   "source": [
    "### 1. STEP: INSTALL NEO4J\n",
    "Install the desktop version following the instructions on the [website](https://neo4j.com/download/)"
   ]
  },
  {
   "cell_type": "markdown",
   "metadata": {
    "collapsed": false,
    "jupyter": {
     "outputs_hidden": false
    }
   },
   "source": [
    "### 2. STEP: CREATE A NEW PROJECT\n",
    "Once you have installed Neo4j on your computer, open it and create a new blank project\n",
    "<p align=\"center\">\n",
    "  <img width=\"1200\"  src=\"imgs/create_project.png\" >\n",
    "</p>\n",
    "# TODO: change the image with a pretty one"
   ]
  },
  {
   "cell_type": "markdown",
   "metadata": {
    "collapsed": false,
    "jupyter": {
     "outputs_hidden": false
    }
   },
   "source": [
    "### 3. STEP: DOWNLOAD THE DUMP FILE\n",
    "Download the $A$rt$G$raph dump from [Zenodo](https://zenodo.org/record/8172374) (**Be sure to download the second version of the dataset**) and place it in the folder of your DB.\n",
    "\n",
    "To access your project folder, select the options in the Neo4j dashboard.\n",
    "<p align=\"center\">\n",
    "  <img width=\"1200\" src=\"imgs/rev_folder.png\">\n",
    "</p>\n",
    "\n",
    "Now salve the dump file in the target directory.\n",
    "<p align=\"center\">\n",
    "  <img src=\"imgs/proj_folder.png\" >\n",
    "</p>"
   ]
  },
  {
   "cell_type": "markdown",
   "metadata": {
    "collapsed": false,
    "jupyter": {
     "outputs_hidden": false
    }
   },
   "source": [
    "### 4. STEP: CREATE A NEW DATABASE\n",
    "Create a new DBMS from an existing dump.\n",
    "\n",
    "To be sure that the dump file will be correctly processed, you need to select version **4.4.4** of the DBMS\n",
    "<p align=\"center\">\n",
    "  <img width=\"1200\"  src=\"imgs/dbms_settings.png\" >\n",
    "</p>"
   ]
  },
  {
   "cell_type": "markdown",
   "metadata": {
    "collapsed": false,
    "jupyter": {
     "outputs_hidden": false
    }
   },
   "source": [
    "### 5. STEP: LET THE DB BE VISIBLE TO NEO4J PYTHON MODULE FOR CONNECTION\n",
    "To let <code>neo4j</code> python module connect to your new database , you may need to change a setting.\n",
    "To do so, open the settings and place the auth_enabled variable to False:\n",
    "<code>dbms.security.auth_enabled=False</code>\n",
    "\n",
    "<p align=\"center\">\n",
    "  <img width=\"1200\"  src=\"imgs/security_settings.png\" >\n",
    "</p>"
   ]
  },
  {
   "cell_type": "markdown",
   "metadata": {
    "collapsed": false,
    "jupyter": {
     "outputs_hidden": false
    }
   },
   "source": [
    "### 6. STEP: START THE DB\n",
    "Press the button **Start** to start the DB and make it visible in your local connection.\n",
    "\n",
    "<p align=\"center\">\n",
    "  <img width=\"1200\"  src=\"imgs/start.png\" >\n",
    "</p>"
   ]
  },
  {
   "cell_type": "code",
   "execution_count": 1,
   "metadata": {
    "collapsed": false,
    "jupyter": {
     "outputs_hidden": false
    }
   },
   "outputs": [],
   "source": [
    "from neo4j import GraphDatabase\n",
    "from yfiles_jupyter_graphs import GraphWidget"
   ]
  },
  {
   "cell_type": "markdown",
   "metadata": {
    "collapsed": false,
    "jupyter": {
     "outputs_hidden": false
    }
   },
   "source": [
    "Replace with your credentials"
   ]
  },
  {
   "cell_type": "code",
   "execution_count": 2,
   "metadata": {
    "collapsed": false,
    "jupyter": {
     "outputs_hidden": false
    }
   },
   "outputs": [],
   "source": [
    "CREDENTIALS = {'uri': \"bolt://localhost:7687\",\n",
    "             'auth': ('neo4j', 'admin')}"
   ]
  },
  {
   "cell_type": "code",
   "execution_count": 5,
   "metadata": {
    "collapsed": false,
    "jupyter": {
     "outputs_hidden": false
    }
   },
   "outputs": [],
   "source": [
    "driver = GraphDatabase.driver(**CREDENTIALS)"
   ]
  },
  {
   "cell_type": "code",
   "execution_count": 6,
   "metadata": {
    "collapsed": false,
    "jupyter": {
     "outputs_hidden": false
    }
   },
   "outputs": [
    {
     "data": {
      "application/vnd.jupyter.widget-view+json": {
       "model_id": "728cec28fe994afcb5dfdee0b26f853c",
       "version_major": 2,
       "version_minor": 0
      },
      "text/plain": [
       "GraphWidget(layout=Layout(height='500px', width='100%'))"
      ]
     },
     "metadata": {},
     "output_type": "display_data"
    }
   ],
   "source": [
    "with driver.session(database='neo4j') as session:\n",
    "    graph = session.run('call db.schema.visualization()').graph()\n",
    "GraphWidget(graph=graph)"
   ]
  },
  {
   "cell_type": "code",
   "execution_count": 5,
   "metadata": {
    "collapsed": false,
    "jupyter": {
     "outputs_hidden": false
    }
   },
   "outputs": [],
   "source": [
    "# TODO: insert a function to customize the node style vor viz"
   ]
  },
  {
   "cell_type": "code",
   "execution_count": 5,
   "metadata": {
    "collapsed": false,
    "jupyter": {
     "outputs_hidden": false
    }
   },
   "outputs": [],
   "source": []
  }
 ],
 "metadata": {
  "kernelspec": {
   "display_name": "Python 3 (ipykernel)",
   "language": "python",
   "name": "python3"
  },
  "language_info": {
   "codemirror_mode": {
    "name": "ipython",
    "version": 3
   },
   "file_extension": ".py",
   "mimetype": "text/x-python",
   "name": "python",
   "nbconvert_exporter": "python",
   "pygments_lexer": "ipython3",
   "version": "3.9.13"
  }
 },
 "nbformat": 4,
 "nbformat_minor": 4
}
