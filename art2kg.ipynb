{
 "cells": [
  {
   "cell_type": "markdown",
   "metadata": {
    "collapsed": false,
    "jupyter": {
     "outputs_hidden": false
    }
   },
   "source": [
    "## ART2KG: HOW TO ANALYZE ART USING GRAPH DATA SCIENCE"
   ]
  },
  {
   "cell_type": "markdown",
   "metadata": {
    "collapsed": false,
    "jupyter": {
     "outputs_hidden": false
    }
   },
   "source": [
    "<p align=\"center\">\n",
    "  <img src=\"imgs/neo4j_logo.png\" />\n",
    "</p>"
   ]
  },
  {
   "cell_type": "markdown",
   "metadata": {
    "collapsed": false,
    "jupyter": {
     "outputs_hidden": false
    }
   },
   "source": [
    "In this tutorial we will see how to analyze the beauty of Art through Graph Data Science. Specifically, we will take a look to $A$rt$G$raph, a labeled property graph, designed specifically to embrace the knowledge in the domain of Artistic Heritage, by exploiting Neo4j, which is a graph database."
   ]
  },
  {
   "cell_type": "markdown",
   "metadata": {
    "collapsed": false,
    "jupyter": {
     "outputs_hidden": false
    }
   },
   "source": [
    "## NEO4J INSTALLATION"
   ]
  },
  {
   "cell_type": "markdown",
   "metadata": {
    "collapsed": false,
    "jupyter": {
     "outputs_hidden": false
    }
   },
   "source": [
    "### 1. STEP: INSTALL NEO4J\n",
    "Install the desktop version following the instructions on the [website](https://neo4j.com/download/)"
   ]
  },
  {
   "cell_type": "markdown",
   "metadata": {
    "collapsed": false,
    "jupyter": {
     "outputs_hidden": false
    }
   },
   "source": [
    "### 2. STEP: CREATE A NEW PROJECT\n",
    "Once you have installed Neo4j on your computer, open it and create a new blank project\n",
    "<p align=\"center\">\n",
    "  <img width=\"1200\"  src=\"imgs/create_project.png\" >\n",
    "</p>\n",
    "# TODO: change the image with a pretty one"
   ]
  },
  {
   "cell_type": "markdown",
   "metadata": {
    "collapsed": false,
    "jupyter": {
     "outputs_hidden": false
    }
   },
   "source": [
    "### 3. STEP: DOWNLOAD THE DUMP FILE\n",
    "Download the $A$rt$G$raph dump from [Zenodo](https://zenodo.org/record/8172374) (**Be sure to download the second version of the dataset**) and place it in the folder of your DB.\n",
    "\n",
    "To access your project folder, select the options in the Neo4j dashboard.\n",
    "<p align=\"center\">\n",
    "  <img width=\"1200\" src=\"imgs/rev_folder.png\">\n",
    "</p>\n",
    "\n",
    "Now salve the dump file in the target directory.\n",
    "<p align=\"center\">\n",
    "  <img src=\"imgs/proj_folder.png\" >\n",
    "</p>"
   ]
  },
  {
   "cell_type": "markdown",
   "metadata": {
    "collapsed": false,
    "jupyter": {
     "outputs_hidden": false
    }
   },
   "source": [
    "### 4. STEP: CREATE A NEW DATABASE\n",
    "Create a new DBMS from an existing dump.\n",
    "\n",
    "To be sure that the dump file will be correctly processed, you need to select version **4.4.4** of the DBMS\n",
    "<p align=\"center\">\n",
    "  <img width=\"1200\"  src=\"imgs/dbms_settings.png\" >\n",
    "</p>"
   ]
  },
  {
   "cell_type": "markdown",
   "metadata": {
    "collapsed": false,
    "jupyter": {
     "outputs_hidden": false
    }
   },
   "source": [
    "### 5. STEP: LET THE DB BE VISIBLE TO NEO4J PYTHON MODULE FOR CONNECTION\n",
    "To let <code>neo4j</code> python module connect to your new database , you may need to change a setting.\n",
    "To do so, open the settings and place the auth_enabled variable to False:\n",
    "<code>dbms.security.auth_enabled=False</code>\n",
    "\n",
    "<p align=\"center\">\n",
    "  <img width=\"1200\"  src=\"imgs/security_settings.png\" >\n",
    "</p>"
   ]
  },
  {
   "cell_type": "markdown",
   "metadata": {
    "collapsed": false,
    "jupyter": {
     "outputs_hidden": false
    }
   },
   "source": [
    "### 6. STEP: START THE DB\n",
    "Press the button **Start** to start the DB and make it visible in your local connection.\n",
    "\n",
    "<p align=\"center\">\n",
    "  <img width=\"1200\"  src=\"imgs/start.png\" >\n",
    "</p>"
   ]
  },
  {
   "cell_type": "code",
   "execution_count": 1,
   "metadata": {
    "collapsed": false,
    "jupyter": {
     "outputs_hidden": false
    }
   },
   "outputs": [],
   "source": [
    "from neo4j import GraphDatabase\n",
    "from yfiles_jupyter_graphs import GraphWidget"
   ]
  },
  {
   "cell_type": "markdown",
   "metadata": {
    "collapsed": false,
    "jupyter": {
     "outputs_hidden": false
    }
   },
   "source": [
    "Replace with your credentials"
   ]
  },
  {
   "cell_type": "code",
   "execution_count": 2,
   "metadata": {
    "collapsed": false,
    "jupyter": {
     "outputs_hidden": false
    }
   },
   "outputs": [],
   "source": [
    "CREDENTIALS = {'uri': \"bolt://localhost:7687\",\n",
    "             'auth': ('neo4j', 'admin')}"
   ]
  },
  {
   "cell_type": "code",
   "execution_count": 5,
   "metadata": {
    "collapsed": false,
    "jupyter": {
     "outputs_hidden": false
    }
   },
   "outputs": [],
   "source": [
    "driver = GraphDatabase.driver(**CREDENTIALS)"
   ]
  },
  {
   "cell_type": "markdown",
   "metadata": {},
   "source": [
    "Let's define a simple style for a better visualization"
   ]
  },
  {
   "cell_type": "code",
   "execution_count": 16,
   "metadata": {},
   "outputs": [],
   "source": [
    "node_styles = {\n",
    "    'Artwork': {'color': '#F60F04', 'label': 'title'},\n",
    "    'Artist': {'color': '#7F12ED', 'label': 'printed_name'},\n",
    "    'Style': {'color': '#48831C', 'label': 'name'},\n",
    "    'Genre': {'color': '#FF99E3', 'label': 'name'},\n",
    "    'Emotion': {'color': '#03FB21', 'label': 'name'},\n",
    "    'Media': {'color': '#FF59D9', 'label': 'name'},\n",
    "    'Tag': {'color': '#59E3FF', 'label': 'name'},\n",
    "    'Country': {'color': '#255EC6', 'label': 'name'},\n",
    "    'Period': {'color': '#B6D0FF', 'label': 'name'},\n",
    "    'City': {'color': '#F9FF3C', 'label': 'name'},\n",
    "    'Gallery': {'color': '#EF78FF', 'label': 'name'},\n",
    "    'Serie': {'color': '#E3CB1D', 'label': 'name'},\n",
    "    'Field': {'color': '#E36B1D', 'label': 'name'},\n",
    "    'Training': {'color': '#1DE383', 'label': 'name'},\n",
    "    'Subject': {'color': '#E31D50', 'label': 'name'},\n",
    "    'Movement': {'color': '#9FFFEC', 'label': 'name'},\n",
    "    'People': {'color': '#077D26', 'label': 'name'},\n",
    "}\n"
   ]
  },
  {
   "cell_type": "code",
   "execution_count": 79,
   "metadata": {},
   "outputs": [],
   "source": [
    "def get_label(node, style_map):\n",
    "    lab = style_map.get(node['properties']['label'])['label'] # e.g. name, title, printed_name, ...\n",
    "    return node['properties'][lab] if lab in node['properties'].keys() else node['properties']['name']"
   ]
  },
  {
   "cell_type": "code",
   "execution_count": 77,
   "metadata": {},
   "outputs": [],
   "source": [
    "def plotGraph(graph):\n",
    "    w = GraphWidget(graph=graph) # create a new widget\n",
    "    # set basic settings\n",
    "    w.set_graph_layout(\"radial\")\n",
    "    w.set_sidebar(enabled=False, start_with='Data')\n",
    "    w.set:overview(False)\n",
    "    \n",
    "    w.set_node_styles_mapping(lambda index, node: node_styles.get(node['properties']['label'], {}))\n",
    "    #w.set_node_label_mapping(lambda index, node: node['properties'].get(node_styles.get(node['properties']['label'])['label']))\n",
    "    w.set_node_label_mapping(lambda index, node: get_label(node, node_styles))\n",
    "    return w.show()\n",
    "    "
   ]
  },
  {
   "cell_type": "markdown",
   "metadata": {},
   "source": [
    "### QUERY 1. GRAPH SCHEMA\n",
    "The goal of this query is to visualize the logic schema of $A$rt$G$raph"
   ]
  },
  {
   "cell_type": "code",
   "execution_count": 80,
   "metadata": {
    "collapsed": false,
    "jupyter": {
     "outputs_hidden": false
    }
   },
   "outputs": [
    {
     "data": {
      "application/vnd.jupyter.widget-view+json": {
       "model_id": "99fa86c3a5b84258b718f138aed26baf",
       "version_major": 2,
       "version_minor": 0
      },
      "text/plain": [
       "GraphWidget(layout=Layout(height='500px', width='100%'))"
      ]
     },
     "metadata": {},
     "output_type": "display_data"
    }
   ],
   "source": [
    "with driver.session(database='neo4j') as session:\n",
    "    graph = session.run('call db.schema.visualization()').graph()\n",
    "plotGraph(graph)"
   ]
  },
  {
   "cell_type": "markdown",
   "metadata": {},
   "source": [
    "### QUERY 2. ARTGRAPH SAMPLE\n",
    "In this query we are going to take a look to a \"small\" portion of $A$rt$G$raph, concentrating to *Artwork* nodes"
   ]
  },
  {
   "cell_type": "code",
   "execution_count": 98,
   "metadata": {},
   "outputs": [
    {
     "data": {
      "application/vnd.jupyter.widget-view+json": {
       "model_id": "9e54b49d7ccb4635be714974baec3e9b",
       "version_major": 2,
       "version_minor": 0
      },
      "text/plain": [
       "GraphWidget(layout=Layout(height='500px', width='100%'))"
      ]
     },
     "metadata": {},
     "output_type": "display_data"
    }
   ],
   "source": [
    "with driver.session(database='neo4j') as session:\n",
    "    graph = session.run('match p=(:Artwork)-[*3]-() return p limit 200').graph()\n",
    "plotGraph(graph)"
   ]
  },
  {
   "cell_type": "markdown",
   "metadata": {},
   "source": [
    "And now with respect to *Artist* nodes"
   ]
  },
  {
   "cell_type": "code",
   "execution_count": 92,
   "metadata": {},
   "outputs": [
    {
     "data": {
      "application/vnd.jupyter.widget-view+json": {
       "model_id": "f23c96458aed4d9389ccc314daaa6f4a",
       "version_major": 2,
       "version_minor": 0
      },
      "text/plain": [
       "GraphWidget(layout=Layout(height='500px', width='100%'))"
      ]
     },
     "metadata": {},
     "output_type": "display_data"
    }
   ],
   "source": [
    "with driver.session(database='neo4j') as session:\n",
    "    graph = session.run('match p=(:Artist)<-[*2]->(:Artist) return p LIMIT 500').graph()\n",
    "plotGraph(graph)"
   ]
  },
  {
   "cell_type": "code",
   "execution_count": 96,
   "metadata": {},
   "outputs": [
    {
     "data": {
      "application/vnd.jupyter.widget-view+json": {
       "model_id": "ee1968bb1b8349f1bd1ab2f552817c70",
       "version_major": 2,
       "version_minor": 0
      },
      "text/plain": [
       "GraphWidget(layout=Layout(height='500px', width='100%'))"
      ]
     },
     "metadata": {},
     "output_type": "display_data"
    }
   ],
   "source": [
    "query = 'MATCH p=(:Artist)--(:Artist)--()--(:Artist)--(:Artist) return p limit 200'\n",
    "with driver.session(database='neo4j') as session:\n",
    "    graph = session.run(query).graph()\n",
    "plotGraph(graph)"
   ]
  },
  {
   "cell_type": "code",
   "execution_count": null,
   "metadata": {},
   "outputs": [],
   "source": []
  }
 ],
 "metadata": {
  "kernelspec": {
   "display_name": "Python 3 (ipykernel)",
   "language": "python",
   "name": "python3"
  },
  "language_info": {
   "codemirror_mode": {
    "name": "ipython",
    "version": 3
   },
   "file_extension": ".py",
   "mimetype": "text/x-python",
   "name": "python",
   "nbconvert_exporter": "python",
   "pygments_lexer": "ipython3",
   "version": "3.9.13"
  }
 },
 "nbformat": 4,
 "nbformat_minor": 4
}
